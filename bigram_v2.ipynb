{
 "cells": [
  {
   "cell_type": "code",
   "execution_count": 29,
   "metadata": {},
   "outputs": [],
   "source": [
    "import torch\n",
    "from torch.nn.functional import one_hot\n",
    "import numpy as np \n",
    "import matplotlib.pyplot as plt"
   ]
  },
  {
   "cell_type": "code",
   "execution_count": 30,
   "metadata": {},
   "outputs": [
    {
     "data": {
      "text/plain": [
       "['a', 'abaca', 'abache']"
      ]
     },
     "execution_count": 30,
     "metadata": {},
     "output_type": "execute_result"
    }
   ],
   "source": [
    "pre_words = open(\"./words.txt\", \"r\").readlines()\n",
    "words = []\n",
    "for w in pre_words: \n",
    "    words.append(w.replace(\"\\n\", \"\"))\n",
    "words[:3]"
   ]
  },
  {
   "cell_type": "code",
   "execution_count": 31,
   "metadata": {},
   "outputs": [],
   "source": [
    "alphabet = sorted(list(set(\"\".join(words))))\n",
    "end_start = \".\" # taking same values to reduce number of empty lines\n",
    "sti = {f\"{s}\":i+1 for i, s in enumerate(alphabet)}\n",
    "sti[\".\"] = 0\n",
    "its = {v: k for k, v in sti.items()}"
   ]
  },
  {
   "cell_type": "code",
   "execution_count": 32,
   "metadata": {},
   "outputs": [],
   "source": [
    "# creating dataset\n",
    "xs, ys = [], []\n",
    "for w in words:\n",
    "    chs = [end_start] + list(w) + [end_start]\n",
    "    for ch1, ch2 in zip(chs, chs[1:]):\n",
    "        xs.append(sti[ch1])\n",
    "        ys.append(sti[ch2])\n",
    "xs = torch.tensor(xs)\n",
    "ys = torch.tensor(ys)\n",
    "num = xs.numel()"
   ]
  },
  {
   "cell_type": "code",
   "execution_count": 33,
   "metadata": {},
   "outputs": [],
   "source": [
    "# initialize model\n",
    "g = torch.Generator().manual_seed(42)\n",
    "W = torch.rand((27, 27), generator=g, requires_grad=True)"
   ]
  },
  {
   "cell_type": "code",
   "execution_count": 34,
   "metadata": {},
   "outputs": [
    {
     "name": "stdout",
     "output_type": "stream",
     "text": [
      "3.3548223972320557\n",
      "2.8158023357391357\n",
      "2.634100914001465\n",
      "2.5466718673706055\n",
      "2.4926984310150146\n",
      "2.4561009407043457\n",
      "2.4294817447662354\n",
      "2.4094648361206055\n",
      "2.3937582969665527\n",
      "2.381303071975708\n",
      "2.3710341453552246\n",
      "2.362630605697632\n",
      "2.3554279804229736\n",
      "2.3494296073913574\n",
      "2.3441085815429688\n",
      "2.3396549224853516\n",
      "2.335564374923706\n",
      "2.332170009613037\n",
      "2.328925132751465\n",
      "2.3262979984283447\n",
      "2.3236560821533203\n",
      "2.321613311767578\n",
      "2.3194122314453125\n",
      "2.3178348541259766\n",
      "2.3159594535827637\n",
      "2.3147668838500977\n",
      "2.3131279945373535\n",
      "2.3122618198394775\n",
      "2.3107857704162598\n",
      "2.3101983070373535\n",
      "2.3088219165802\n",
      "2.30846905708313\n",
      "2.3071389198303223\n",
      "2.306980848312378\n",
      "2.3056585788726807\n",
      "2.3056585788726807\n",
      "2.3043227195739746\n",
      "2.3044521808624268\n",
      "2.3030970096588135\n",
      "2.303332567214966\n",
      "2.301962375640869\n",
      "2.302288055419922\n",
      "2.300910234451294\n",
      "2.301314353942871\n",
      "2.299936532974243\n",
      "2.300410032272339\n",
      "2.299037456512451\n",
      "2.2995738983154297\n",
      "2.2982089519500732\n",
      "2.2988028526306152\n",
      "2.2974464893341064\n",
      "2.2980940341949463\n",
      "2.2967453002929688\n",
      "2.297442674636841\n",
      "2.2960996627807617\n",
      "2.296844959259033\n",
      "2.2955055236816406\n",
      "2.2962958812713623\n",
      "2.294957399368286\n",
      "2.2957916259765625\n",
      "2.294450283050537\n",
      "2.2953262329101562\n",
      "2.293980360031128\n",
      "2.2948970794677734\n",
      "2.2935431003570557\n",
      "2.2944982051849365\n",
      "2.2931344509124756\n",
      "2.2941267490386963\n",
      "2.2927515506744385\n",
      "2.29377818107605\n",
      "2.292391061782837\n",
      "2.293450117111206\n",
      "2.292050361633301\n",
      "2.2931394577026367\n",
      "2.291727066040039\n",
      "2.292844533920288\n",
      "2.291419744491577\n",
      "2.29256272315979\n",
      "2.291126012802124\n",
      "2.292292833328247\n",
      "2.290846109390259\n",
      "2.2920331954956055\n",
      "2.2905774116516113\n",
      "2.2917838096618652\n",
      "2.290320634841919\n",
      "2.29154372215271\n",
      "2.290073871612549\n",
      "2.2913122177124023\n",
      "2.289836883544922\n",
      "2.2910892963409424\n",
      "2.28960919380188\n",
      "2.290874481201172\n",
      "2.289391040802002\n",
      "2.2906665802001953\n",
      "2.289180278778076\n",
      "2.290466785430908\n",
      "2.288978338241577\n",
      "2.290273666381836\n",
      "2.2887840270996094\n",
      "2.2900872230529785\n"
     ]
    }
   ],
   "source": [
    "# training\n",
    "for i in range(100):\n",
    "    # forward pass\n",
    "    xenc = one_hot(xs, num_classes=27).float()\n",
    "    res = xenc @ W\n",
    "    # softmax\n",
    "    # --------\n",
    "    couts = res.exp()\n",
    "    probs = couts/couts.sum(keepdim=True, dim=1)\n",
    "    # --------\n",
    "    \n",
    "    loss_log_likelihood = -probs[torch.arange(num), ys].log().mean() # + 0.001 * mean(W**2) => regularization\n",
    "    print(loss_log_likelihood.item())\n",
    "\n",
    "    # backward\n",
    "    W.grad = None\n",
    "    loss_log_likelihood.backward()\n",
    "    \n",
    "    # update\n",
    "    W.data += -100 * W.grad\n",
    "    "
   ]
  },
  {
   "cell_type": "code",
   "execution_count": 41,
   "metadata": {},
   "outputs": [
    {
     "name": "stdout",
     "output_type": "stream",
     "text": [
      "li.\n",
      "sto.\n",
      "rerasto.\n",
      "anantiaghe.\n",
      "cccatoscarova.\n"
     ]
    }
   ],
   "source": [
    "# generating text\n",
    "g = torch.Generator().manual_seed(32)\n",
    "for i in range(5): # generate 5 words\n",
    "    out = []\n",
    "    ix = 0 \n",
    "    while True:\n",
    "        xenc = one_hot(torch.tensor([ix]), num_classes=27).float()\n",
    "        res = xenc @ W\n",
    "        counts = res.exp()\n",
    "        p = counts / counts.mean(keepdim=True, dim=1)\n",
    "        ix = torch.multinomial(p, num_samples=1, replacement=True, generator=g).item()\n",
    "        out.append(its[ix])\n",
    "        if ix == 0:\n",
    "            break\n",
    "    print(\"\".join(out))"
   ]
  },
  {
   "cell_type": "code",
   "execution_count": null,
   "metadata": {},
   "outputs": [],
   "source": []
  }
 ],
 "metadata": {
  "kernelspec": {
   "display_name": ".torchvenv",
   "language": "python",
   "name": "python3"
  },
  "language_info": {
   "codemirror_mode": {
    "name": "ipython",
    "version": 3
   },
   "file_extension": ".py",
   "mimetype": "text/x-python",
   "name": "python",
   "nbconvert_exporter": "python",
   "pygments_lexer": "ipython3",
   "version": "3.10.10"
  }
 },
 "nbformat": 4,
 "nbformat_minor": 2
}
